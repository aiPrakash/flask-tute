{
 "cells": [
  {
   "cell_type": "code",
   "execution_count": 1,
   "metadata": {},
   "outputs": [
    {
     "name": "stdout",
     "output_type": "stream",
     "text": [
      " * Serving Flask app \"__main__\" (lazy loading)\n",
      " * Environment: production\n",
      "   WARNING: Do not use the development server in a production environment.\n",
      "   Use a production WSGI server instead.\n"
     ]
    },
    {
     "name": "stderr",
     "output_type": "stream",
     "text": [
      "C:\\Users\\SAI PRAKASH\\Anaconda3\\lib\\site-packages\\flask_sqlalchemy\\__init__.py:834: FSADeprecationWarning: SQLALCHEMY_TRACK_MODIFICATIONS adds significant overhead and will be disabled by default in the future.  Set it to True or False to suppress this warning.\n",
      "  'SQLALCHEMY_TRACK_MODIFICATIONS adds significant overhead and '\n"
     ]
    },
    {
     "name": "stdout",
     "output_type": "stream",
     "text": [
      " * Debug mode: on\r\n"
     ]
    },
    {
     "name": "stderr",
     "output_type": "stream",
     "text": [
      " * Restarting with stat\n"
     ]
    },
    {
     "ename": "SystemExit",
     "evalue": "1",
     "output_type": "error",
     "traceback": [
      "An exception has occurred, use %tb to see the full traceback.\n",
      "\u001b[1;31mSystemExit\u001b[0m\u001b[1;31m:\u001b[0m 1\n"
     ]
    },
    {
     "name": "stderr",
     "output_type": "stream",
     "text": [
      "C:\\Users\\SAI PRAKASH\\Anaconda3\\lib\\site-packages\\IPython\\core\\interactiveshell.py:3304: UserWarning: To exit: use 'exit', 'quit', or Ctrl-D.\n",
      "  warn(\"To exit: use 'exit', 'quit', or Ctrl-D.\", stacklevel=1)\n"
     ]
    }
   ],
   "source": [
    "from flask import Flask, render_template, request\n",
    "from flask_sqlalchemy import SQLAlchemy\n",
    "from  datetime import datetime\n",
    "\n",
    "\n",
    "app = Flask(__name__)\n",
    "app.config['SQLALCHEMY_DATABASE_URI'] = 'mysql://root:@localhost/puppysite'\n",
    "db = SQLAlchemy(app)\n",
    "\n",
    "\n",
    "class Contacts(db.Model):\n",
    "    sno=db.Column(db.Integer,primary_key=True)\n",
    "    name = db.Column(db.String(80), nullable=False)\n",
    "    email = db.Column(db.String(20), nullable=False)\n",
    "    phone_num = db.Column(db.String(12), nullable=False)\n",
    "    mes = db.Column(db.String(120), nullable=False)\n",
    "    date = db.Column(db.String(12),nullable=True)\n",
    "\n",
    "\n",
    "@app.route(\"/\")\n",
    "def home():\n",
    "    return render_template('index.html')\n",
    "\n",
    "@app.route(\"/about\")\n",
    "def about():\n",
    "    return render_template('about.html')\n",
    "\n",
    "@app.route(\"/post\")\n",
    "def SamplePost():\n",
    "    return render_template('post.html')\n",
    "\n",
    "@app.route(\"/contact\", methods = ['GET','POST'])\n",
    "def contact():\n",
    "    if(request.method =='POST'):\n",
    "        name = request.form.get('name')\n",
    "        email = request.form.get('email')\n",
    "        phone = request.form.get('phone')\n",
    "        message = request.form.get('message')\n",
    "\n",
    "        entry = Contacts(name=name, email=email, phone_num=phone, mes=message, date=datetime.now())\n",
    "        db.session.add(entry)\n",
    "        db.session.commit()\n",
    "    return render_template('contact.html')\n",
    "\n",
    "app.run(debug=True)\n",
    "\n"
   ]
  },
  {
   "cell_type": "code",
   "execution_count": null,
   "metadata": {},
   "outputs": [],
   "source": []
  }
 ],
 "metadata": {
  "kernelspec": {
   "display_name": "Python 3",
   "language": "python",
   "name": "python3"
  },
  "language_info": {
   "codemirror_mode": {
    "name": "ipython",
    "version": 3
   },
   "file_extension": ".py",
   "mimetype": "text/x-python",
   "name": "python",
   "nbconvert_exporter": "python",
   "pygments_lexer": "ipython3",
   "version": "3.7.3"
  }
 },
 "nbformat": 4,
 "nbformat_minor": 2
}
